{
 "cells": [
  {
   "cell_type": "markdown",
   "id": "062e2aa5-4d01-4e3e-ba9e-d6d49ae4293f",
   "metadata": {},
   "source": [
    "This noteboook is used to reformat the old training data jsons, meant to fine tune GPT-3 Davincii to the new completion format. OpenaAI links to its [API Reference](https://platform.openai.com/docs/api-reference/chat/create) as the reference for the fine-tuning."
   ]
  },
  {
   "cell_type": "code",
   "execution_count": 1,
   "id": "7e3a7368-23ee-40b3-a43f-7049d1b55313",
   "metadata": {},
   "outputs": [],
   "source": [
    "training_data_folder = \"training_data\"\n",
    "\n",
    "files = {}\n",
    "files[\"creative\"] = f\"{training_data_folder}/training_FT-CR\"\n",
    "files[\"high_quality\"] = f\"{training_data_folder}/training_FT-HQ\"\n",
    "files[\"large\"] = f\"{training_data_folder}/training_FT-XL\""
   ]
  },
  {
   "cell_type": "code",
   "execution_count": 2,
   "id": "59d9b51d-27b6-4bc0-ba14-ffd84fcb3dfc",
   "metadata": {},
   "outputs": [],
   "source": [
    "for f in files:\n",
    "    \n",
    "    with open(f'{files[f]}.jsonl', \"r\") as file:\n",
    "        lines = file.readlines()\n",
    "    \n",
    "    new_file = \"\"\n",
    "    for line in lines:\n",
    "        if len(line.strip()) == 0:\n",
    "            # skip an empty line\n",
    "            continue\n",
    "    \n",
    "        # change the start of the prompt\n",
    "        assert line.startswith('{\"prompt\":')\n",
    "        line = line.replace('{\"prompt\":', '{\"messages\": [{\"role\": \"user\", \"content\":')\n",
    "    \n",
    "        # changer the end of the prompt\n",
    "        assert line[-1] == \"\\n\"\n",
    "        assert line[-2] == \"}\"\n",
    "        assert line.count(\"}\") == 1\n",
    "        line = line.replace('}', '}]}')\n",
    "    \n",
    "        # split the completion into its own object\n",
    "        line = line.replace(', \"completion\":', '}, {\"role\": \"assistant\", \"content\":')\n",
    "        line = line.replace(',\"completion\":', '}, {\"role\": \"assistant\", \"content\":')\n",
    "    \n",
    "        new_file += line\n",
    "\n",
    "    with open(f\"{files[f]}-new.jsonl\", \"w\") as file:\n",
    "        file.write(new_file)"
   ]
  },
  {
   "cell_type": "code",
   "execution_count": null,
   "id": "66ff508d-75ba-4f0c-b037-36cfbd122a4c",
   "metadata": {},
   "outputs": [],
   "source": []
  }
 ],
 "metadata": {
  "kernelspec": {
   "display_name": "Python 3 (ipykernel)",
   "language": "python",
   "name": "python3"
  },
  "language_info": {
   "codemirror_mode": {
    "name": "ipython",
    "version": 3
   },
   "file_extension": ".py",
   "mimetype": "text/x-python",
   "name": "python",
   "nbconvert_exporter": "python",
   "pygments_lexer": "ipython3",
   "version": "3.11.7"
  }
 },
 "nbformat": 4,
 "nbformat_minor": 5
}
