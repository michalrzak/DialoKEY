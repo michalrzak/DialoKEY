{
 "cells": [
  {
   "cell_type": "code",
   "execution_count": 1,
   "id": "651d737c-cdde-4051-a758-cc1f81654e0d",
   "metadata": {},
   "outputs": [],
   "source": [
    "import os\n",
    "import random"
   ]
  },
  {
   "cell_type": "code",
   "execution_count": 2,
   "id": "1048cef3-3849-488b-8c93-b615f1380500",
   "metadata": {},
   "outputs": [],
   "source": [
    "test_ratio = 0.2"
   ]
  },
  {
   "cell_type": "code",
   "execution_count": 3,
   "id": "d49d193d-105e-4aba-8463-f735ac2f615f",
   "metadata": {},
   "outputs": [],
   "source": [
    "training_data_folder = \"training_data\"\n",
    "training_data = [file for file in os.listdir(training_data_folder) if file.startswith(\"training\")]"
   ]
  },
  {
   "cell_type": "code",
   "execution_count": 4,
   "id": "863e5a02-0f00-43cc-8a2f-1293a4f11ec9",
   "metadata": {},
   "outputs": [],
   "source": [
    "target_folder = \"training_data_train_test\""
   ]
  },
  {
   "cell_type": "code",
   "execution_count": 5,
   "id": "d0dc7b72-403d-42ac-8b74-84aafd05feff",
   "metadata": {},
   "outputs": [],
   "source": [
    "for file in training_data:\n",
    "    with open(f\"{training_data_folder}/{file}\", \"r\") as f:\n",
    "        lines = f.readlines()\n",
    "\n",
    "    test_cutoff = int(len(lines) * test_ratio)\n",
    "    \n",
    "    random.shuffle(lines)\n",
    "    test = lines[:test_cutoff]\n",
    "    train = lines[test_cutoff:]\n",
    "\n",
    "    file_name_train = file.replace(\".\", \"-train.\")\n",
    "    file_name_test = file.replace(\".\", \"-test.\")\n",
    "    with open(f\"{target_folder}/{file_name_train}\", \"w\") as f:\n",
    "        f.writelines(train)\n",
    "\n",
    "    with open (f\"{target_folder}/{file_name_test}\", \"w\") as f:\n",
    "        f.writelines(test)"
   ]
  },
  {
   "cell_type": "code",
   "execution_count": null,
   "id": "19c11402-b593-4218-a99f-7eee2afab3b1",
   "metadata": {},
   "outputs": [],
   "source": []
  }
 ],
 "metadata": {
  "kernelspec": {
   "display_name": "Python 3 (ipykernel)",
   "language": "python",
   "name": "python3"
  },
  "language_info": {
   "codemirror_mode": {
    "name": "ipython",
    "version": 3
   },
   "file_extension": ".py",
   "mimetype": "text/x-python",
   "name": "python",
   "nbconvert_exporter": "python",
   "pygments_lexer": "ipython3",
   "version": "3.11.7"
  }
 },
 "nbformat": 4,
 "nbformat_minor": 5
}
